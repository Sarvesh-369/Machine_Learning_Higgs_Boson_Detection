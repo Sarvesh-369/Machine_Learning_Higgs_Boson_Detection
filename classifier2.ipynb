{
  "cells": [
    {
      "cell_type": "markdown",
      "metadata": {},
      "source": [
        "Note : I have executed this code in google collab so when executing locally the path and the device might be different "
      ]
    },
    {
      "cell_type": "code",
      "execution_count": 1,
      "metadata": {
        "id": "69yQSfR72fKJ"
      },
      "outputs": [],
      "source": [
        "import os\n",
        "import zipfile\n",
        "import pandas as pd\n",
        "import numpy as np\n",
        "from sklearn.model_selection import train_test_split\n",
        "from sklearn.preprocessing import StandardScaler\n",
        "import torch\n",
        "import torch.nn as nn\n",
        "import torch.optim as optim\n",
        "from sklearn.model_selection import train_test_split\n",
        "from torch.utils.data import DataLoader, TensorDataset"
      ]
    },
    {
      "cell_type": "markdown",
      "metadata": {},
      "source": [
        "Using GPU if available"
      ]
    },
    {
      "cell_type": "code",
      "execution_count": null,
      "metadata": {},
      "outputs": [],
      "source": [
        "device = torch.device(\"cuda\" if torch.cuda.is_available() else \"cpu\")\n",
        "print(\"Using device:\", device)"
      ]
    },
    {
      "cell_type": "markdown",
      "metadata": {},
      "source": [
        "Mounting Drive"
      ]
    },
    {
      "cell_type": "code",
      "execution_count": 2,
      "metadata": {
        "colab": {
          "base_uri": "https://localhost:8080/"
        },
        "id": "pBN-cBMf2gxc",
        "outputId": "3eb72a9c-9c2e-4d81-b8ee-15bdc1d0f331"
      },
      "outputs": [
        {
          "name": "stdout",
          "output_type": "stream",
          "text": [
            "Mounted at /content/drive\n"
          ]
        }
      ],
      "source": [
        "from google.colab import drive\n",
        "drive.mount('/content/drive')"
      ]
    },
    {
      "cell_type": "markdown",
      "metadata": {},
      "source": [
        "Loading Train File"
      ]
    },
    {
      "cell_type": "code",
      "execution_count": 3,
      "metadata": {
        "id": "IxV_A38v2fKK"
      },
      "outputs": [],
      "source": [
        "# Load the dataset\n",
        "file_path = '/content/drive/MyDrive/BITS-Sarvesh/Fourth year/ML/Data/train.csv'  # Replace with your actual file path\n",
        "data = pd.read_csv(file_path)"
      ]
    },
    {
      "cell_type": "markdown",
      "metadata": {},
      "source": [
        "Preprocessing data"
      ]
    },
    {
      "cell_type": "code",
      "execution_count": null,
      "metadata": {},
      "outputs": [],
      "source": [
        "scaler = StandardScaler()\n",
        "scaled_features = scaler.fit_transform(data.drop('Target', axis=1))\n",
        "# Assuming your data is stored in a pandas DataFrame called 'df'\n",
        "preprocessed_data = pd.DataFrame(scaled_features, columns=data.columns[:-1])\n",
        "preprocessed_data['Target'] = data['Target'].values"
      ]
    },
    {
      "cell_type": "markdown",
      "metadata": {},
      "source": [
        "Preprocessing the Data by using standard scalr and handling the outliers"
      ]
    },
    {
      "cell_type": "markdown",
      "metadata": {},
      "source": [
        "1. This is just one of the method I tried but I really did not go ahed with it as it did not make any significant difference in the accuracy of the training results "
      ]
    },
    {
      "cell_type": "code",
      "execution_count": null,
      "metadata": {},
      "outputs": [],
      "source": [
        "# # Load the dataset\n",
        "# file_path = 'Data/train.csv'  # Replace with your actual file path\n",
        "# data = pd.read_csv(file_path)\n",
        "\n",
        "# # Feature Scaling: Using StandardScaler for scaling features\n",
        "# scaler = StandardScaler()\n",
        "# scaled_features = scaler.fit_transform(data.drop('Target', axis=1))\n",
        "\n",
        "# # Handling Outliers: Capping outliers at 1.5 times the IQR\n",
        "# for col in data.columns[:-1]:  # Excluding the target column\n",
        "#     Q1 = data[col].quantile(0.25)\n",
        "#     Q3 = data[col].quantile(0.75)\n",
        "#     IQR = Q3 - Q1\n",
        "#     lower_bound = Q1 - 1.5 * IQR\n",
        "#     upper_bound = Q3 + 1.5 * IQR\n",
        "#     data[col] = data[col].clip(lower=lower_bound, upper=upper_bound)\n",
        "\n",
        "# # Re-scaling the data after handling outliers\n",
        "# scaled_data = scaler.fit_transform(data.drop('Target', axis=1))\n",
        "\n",
        "# # Creating a new DataFrame for the preprocessed data\n",
        "# preprocessed_data = pd.DataFrame(scaled_data, columns=data.columns[:-1])\n",
        "# preprocessed_data['Target'] = data['Target'].values\n",
        "\n",
        "# # Displaying the first few rows of the preprocessed data\n",
        "# preprocessed_data.head()"
      ]
    },
    {
      "cell_type": "markdown",
      "metadata": {},
      "source": [
        "Building the correlation matrix to check if any 2 features are correlated"
      ]
    },
    {
      "cell_type": "code",
      "execution_count": 2,
      "metadata": {},
      "outputs": [],
      "source": [
        "# def preprocess_data(file_path, corr_threshold=0.9):\n",
        "#     # Load the dataset\n",
        "#     data = pd.read_csv(file_path)\n",
        "\n",
        "#     # Scaling features using StandardScaler\n",
        "#     scaler = StandardScaler()\n",
        "#     scaled_features = scaler.fit_transform(data.drop('Target', axis=1))\n",
        "\n",
        "#     # Handling outliers by capping at 1.5 times the IQR\n",
        "#     for col in data.columns[:-1]:  # Excluding the target column\n",
        "#         Q1 = data[col].quantile(0.25)\n",
        "#         Q3 = data[col].quantile(0.75)\n",
        "#         IQR = Q3 - Q1\n",
        "#         lower_bound = Q1 - 1.5 * IQR\n",
        "#         upper_bound = Q3 + 1.5 * IQR\n",
        "#         data[col] = data[col].clip(lower=lower_bound, upper=upper_bound)\n",
        "\n",
        "#     # Re-scaling the data after handling outliers\n",
        "#     final_scaled_data = scaler.fit_transform(data.drop('Target', axis=1))\n",
        "\n",
        "#     # Creating a DataFrame for the preprocessed data\n",
        "#     preprocessed_data = pd.DataFrame(final_scaled_data, columns=data.columns[:-1])\n",
        "#     preprocessed_data['Target'] = data['Target'].values\n",
        "\n",
        "#     # Correlation analysis - removing highly correlated features\n",
        "#     corr_matrix = preprocessed_data.corr().abs()\n",
        "#     upper_tri = corr_matrix.where(np.triu(np.ones(corr_matrix.shape), k=1).astype(bool))\n",
        "#     to_drop = [column for column in upper_tri.columns if any(upper_tri[column] > corr_threshold)]\n",
        "#     preprocessed_data = preprocessed_data.drop(to_drop, axis=1)\n",
        "\n",
        "#     return preprocessed_data,corr_matrix"
      ]
    },
    {
      "cell_type": "code",
      "execution_count": 3,
      "metadata": {},
      "outputs": [],
      "source": [
        "# file_path = '../Data/train.csv'  # Replace with your actual file path\n",
        "# preprocessed_data_with_correlation,corr_matrix = preprocess_data(file_path)"
      ]
    },
    {
      "cell_type": "code",
      "execution_count": 4,
      "metadata": {},
      "outputs": [
        {
          "data": {
            "image/png": "[encoded data removed]",
            "text/plain": [
              "<Figure size 864x720 with 2 Axes>"
            ]
          },
          "metadata": {
            "needs_background": "light"
          },
          "output_type": "display_data"
        }
      ],
      "source": [
        "# import seaborn as sns\n",
        "# import matplotlib.pyplot as plt\n",
        "\n",
        "# # Plotting the correlation matrix using a heatmap\n",
        "# plt.figure(figsize=(12, 10))\n",
        "# sns.heatmap(corr_matrix, annot=False, cmap='coolwarm')\n",
        "# plt.title(\"Correlation Matrix of Features\")\n",
        "# plt.show()"
      ]
    },
    {
      "cell_type": "markdown",
      "metadata": {},
      "source": [
        "Converting to Pytorch Tensors"
      ]
    },
    {
      "cell_type": "code",
      "execution_count": null,
      "metadata": {},
      "outputs": [],
      "source": [
        "X = preprocessed_data.drop('Target', axis=1).values\n",
        "y = preprocessed_data['Target'].values\n",
        "# Convert numpy arrays to PyTorch tensors\n",
        "X = torch.tensor(X, dtype=torch.float)\n",
        "Y = torch.tensor(y, dtype=torch.float)\n",
        "\n",
        "# Splitting the data into training and validation sets\n",
        "X_train, X_val, Y_train, Y_val = train_test_split(X, Y, test_size=0.25, random_state=42)\n",
        "\n",
        "# Creating data loaders\n",
        "train_data = TensorDataset(X_train, Y_train)\n",
        "train_loader = DataLoader(train_data, batch_size=128, shuffle=True)"
      ]
    },
    {
      "cell_type": "markdown",
      "metadata": {},
      "source": [
        "Defining the Neural Network Structure"
      ]
    },
    {
      "cell_type": "markdown",
      "metadata": {},
      "source": [
        "1. Preventing overfitting by implementing L1 and L2 regularization \n",
        "2. Improving training performance by implementing Batch normalization"
      ]
    },
    {
      "cell_type": "code",
      "execution_count": null,
      "metadata": {},
      "outputs": [],
      "source": [
        "class AdvancedNN(nn.Module):\n",
        "    def __init__(self, input_size):\n",
        "        super(AdvancedNN, self).__init__()\n",
        "        self.fc1 = nn.Linear(input_size, 256)\n",
        "        self.relu1 = nn.ReLU()\n",
        "        self.dropout1 = nn.Dropout(0.3)\n",
        "        self.bn1 = nn.BatchNorm1d(256)\n",
        "\n",
        "        self.fc2 = nn.Linear(256, 128)\n",
        "        self.relu2 = nn.ReLU()\n",
        "        self.dropout2 = nn.Dropout(0.3)\n",
        "        self.bn2 = nn.BatchNorm1d(128)\n",
        "\n",
        "        self.fc3 = nn.Linear(128, 64)\n",
        "        self.relu3 = nn.ReLU()\n",
        "        self.dropout3 = nn.Dropout(0.3)\n",
        "\n",
        "        self.fc4 = nn.Linear(64, 1)\n",
        "        self.sigmoid = nn.Sigmoid()\n",
        "\n",
        "    def forward(self, x):\n",
        "        x = self.dropout1(self.bn1(self.relu1(self.fc1(x))))\n",
        "        x = self.dropout2(self.bn2(self.relu2(self.fc2(x))))\n",
        "        x = self.dropout3(self.relu3(self.fc3(x)))\n",
        "        x = self.sigmoid(self.fc4(x))\n",
        "        return x"
      ]
    },
    {
      "cell_type": "code",
      "execution_count": null,
      "metadata": {},
      "outputs": [],
      "source": [
        "model = AdvancedNN(input_size=X_train.shape[1]).to(device)\n",
        "criterion = nn.BCELoss()\n",
        "optimizer = torch.optim.Adam(model.parameters(), lr=0.001, weight_decay=1e-5)"
      ]
    },
    {
      "cell_type": "markdown",
      "metadata": {},
      "source": [
        "Training The Model"
      ]
    },
    {
      "cell_type": "code",
      "execution_count": 27,
      "metadata": {
        "colab": {
          "base_uri": "https://localhost:8080/"
        },
        "id": "-x0ZJ4cv2fKL",
        "outputId": "301685ea-0383-4cdf-9125-6560611b8f29"
      },
      "outputs": [
        {
          "name": "stdout",
          "output_type": "stream",
          "text": [
            "Using device: cuda\n",
            "Epoch [1/150], Loss: 0.5570, Accuracy: 67.59%\n",
            "Epoch [2/150], Loss: 0.4695, Accuracy: 70.87%\n",
            "Epoch [3/150], Loss: 0.5399, Accuracy: 71.68%\n",
            "Epoch [4/150], Loss: 0.5964, Accuracy: 72.02%\n",
            "Epoch [5/150], Loss: 0.5766, Accuracy: 72.32%\n",
            "Epoch [6/150], Loss: 0.5128, Accuracy: 72.53%\n",
            "Epoch [7/150], Loss: 0.4966, Accuracy: 72.78%\n",
            "Epoch [8/150], Loss: 0.5431, Accuracy: 72.86%\n",
            "Epoch [9/150], Loss: 0.5777, Accuracy: 72.97%\n",
            "Epoch [10/150], Loss: 0.4403, Accuracy: 73.08%\n",
            "Epoch [11/150], Loss: 0.4759, Accuracy: 73.24%\n",
            "Epoch [12/150], Loss: 0.6277, Accuracy: 73.21%\n",
            "Epoch [13/150], Loss: 0.4755, Accuracy: 73.33%\n",
            "Epoch [14/150], Loss: 0.5677, Accuracy: 73.35%\n",
            "Epoch [15/150], Loss: 0.4591, Accuracy: 73.38%\n",
            "Epoch [16/150], Loss: 0.5762, Accuracy: 73.47%\n",
            "Epoch [17/150], Loss: 0.5395, Accuracy: 73.47%\n",
            "Epoch [18/150], Loss: 0.5115, Accuracy: 73.56%\n",
            "Epoch [19/150], Loss: 0.4967, Accuracy: 73.56%\n",
            "Epoch [20/150], Loss: 0.5091, Accuracy: 73.62%\n",
            "Epoch [21/150], Loss: 0.5526, Accuracy: 73.68%\n",
            "Epoch [22/150], Loss: 0.5702, Accuracy: 73.66%\n",
            "Epoch [23/150], Loss: 0.5196, Accuracy: 73.75%\n",
            "Epoch [24/150], Loss: 0.5229, Accuracy: 73.75%\n",
            "Epoch [25/150], Loss: 0.5296, Accuracy: 73.71%\n",
            "Epoch [26/150], Loss: 0.4764, Accuracy: 73.83%\n",
            "Epoch [27/150], Loss: 0.4490, Accuracy: 73.82%\n",
            "Epoch [28/150], Loss: 0.5343, Accuracy: 73.94%\n",
            "Epoch [29/150], Loss: 0.4390, Accuracy: 73.91%\n",
            "Epoch [30/150], Loss: 0.5405, Accuracy: 73.93%\n",
            "Epoch [31/150], Loss: 0.5376, Accuracy: 73.90%\n",
            "Epoch [32/150], Loss: 0.4951, Accuracy: 73.96%\n",
            "Epoch [33/150], Loss: 0.4964, Accuracy: 73.96%\n",
            "Epoch [34/150], Loss: 0.5691, Accuracy: 74.05%\n",
            "Epoch [35/150], Loss: 0.4680, Accuracy: 73.96%\n",
            "Epoch [36/150], Loss: 0.5058, Accuracy: 74.00%\n",
            "Epoch [37/150], Loss: 0.5219, Accuracy: 74.01%\n",
            "Epoch [38/150], Loss: 0.5288, Accuracy: 73.98%\n",
            "Epoch [39/150], Loss: 0.5744, Accuracy: 73.91%\n",
            "Epoch [40/150], Loss: 0.5480, Accuracy: 74.14%\n",
            "Epoch [41/150], Loss: 0.5377, Accuracy: 73.99%\n",
            "Epoch [42/150], Loss: 0.5462, Accuracy: 73.95%\n",
            "Epoch [43/150], Loss: 0.5031, Accuracy: 74.10%\n",
            "Epoch [44/150], Loss: 0.5078, Accuracy: 74.05%\n",
            "Epoch [45/150], Loss: 0.5648, Accuracy: 74.11%\n",
            "Epoch [46/150], Loss: 0.6170, Accuracy: 74.07%\n",
            "Epoch [47/150], Loss: 0.5513, Accuracy: 74.14%\n",
            "Epoch [48/150], Loss: 0.5065, Accuracy: 74.14%\n",
            "Epoch [49/150], Loss: 0.4836, Accuracy: 74.11%\n",
            "Epoch [50/150], Loss: 0.5173, Accuracy: 74.13%\n",
            "Epoch [51/150], Loss: 0.6233, Accuracy: 74.12%\n",
            "Epoch [52/150], Loss: 0.4670, Accuracy: 74.18%\n",
            "Epoch [53/150], Loss: 0.4257, Accuracy: 74.17%\n",
            "Epoch [54/150], Loss: 0.5665, Accuracy: 74.11%\n",
            "Epoch [55/150], Loss: 0.6627, Accuracy: 74.18%\n",
            "Epoch [56/150], Loss: 0.5408, Accuracy: 74.20%\n",
            "Epoch [57/150], Loss: 0.6375, Accuracy: 74.12%\n",
            "Epoch [58/150], Loss: 0.5163, Accuracy: 74.29%\n",
            "Epoch [59/150], Loss: 0.4622, Accuracy: 74.22%\n",
            "Epoch [60/150], Loss: 0.5577, Accuracy: 74.26%\n",
            "Epoch [61/150], Loss: 0.4825, Accuracy: 74.26%\n",
            "Epoch [62/150], Loss: 0.4432, Accuracy: 74.23%\n",
            "Epoch [63/150], Loss: 0.5290, Accuracy: 74.33%\n",
            "Epoch [64/150], Loss: 0.5182, Accuracy: 74.27%\n",
            "Epoch [65/150], Loss: 0.6455, Accuracy: 74.26%\n",
            "Epoch [66/150], Loss: 0.5052, Accuracy: 74.35%\n",
            "Epoch [67/150], Loss: 0.5375, Accuracy: 74.25%\n",
            "Epoch [68/150], Loss: 0.4694, Accuracy: 74.19%\n",
            "Epoch [69/150], Loss: 0.5532, Accuracy: 74.34%\n",
            "Epoch [70/150], Loss: 0.4917, Accuracy: 74.22%\n",
            "Epoch [71/150], Loss: 0.5481, Accuracy: 74.21%\n",
            "Epoch [72/150], Loss: 0.5179, Accuracy: 74.35%\n",
            "Epoch [73/150], Loss: 0.4576, Accuracy: 74.24%\n",
            "Epoch [74/150], Loss: 0.5904, Accuracy: 74.24%\n",
            "Epoch [75/150], Loss: 0.5138, Accuracy: 74.27%\n",
            "Epoch [76/150], Loss: 0.4984, Accuracy: 74.29%\n",
            "Epoch [77/150], Loss: 0.4718, Accuracy: 74.34%\n",
            "Epoch [78/150], Loss: 0.5071, Accuracy: 74.34%\n",
            "Epoch [79/150], Loss: 0.4185, Accuracy: 74.42%\n",
            "Epoch [80/150], Loss: 0.4773, Accuracy: 74.24%\n",
            "Epoch [81/150], Loss: 0.4276, Accuracy: 74.34%\n",
            "Epoch [82/150], Loss: 0.4606, Accuracy: 74.36%\n",
            "Epoch [83/150], Loss: 0.5257, Accuracy: 74.33%\n",
            "Epoch [84/150], Loss: 0.5909, Accuracy: 74.29%\n",
            "Epoch [85/150], Loss: 0.5769, Accuracy: 74.38%\n",
            "Epoch [86/150], Loss: 0.5493, Accuracy: 74.32%\n",
            "Epoch [87/150], Loss: 0.5493, Accuracy: 74.33%\n",
            "Epoch [88/150], Loss: 0.4982, Accuracy: 74.41%\n",
            "Epoch [89/150], Loss: 0.4867, Accuracy: 74.33%\n",
            "Epoch [90/150], Loss: 0.6545, Accuracy: 74.40%\n",
            "Epoch [91/150], Loss: 0.4375, Accuracy: 74.37%\n",
            "Epoch [92/150], Loss: 0.5047, Accuracy: 74.36%\n",
            "Epoch [93/150], Loss: 0.4949, Accuracy: 74.29%\n",
            "Epoch [94/150], Loss: 0.5101, Accuracy: 74.38%\n",
            "Epoch [95/150], Loss: 0.4631, Accuracy: 74.41%\n",
            "Epoch [96/150], Loss: 0.6113, Accuracy: 74.46%\n",
            "Epoch [97/150], Loss: 0.4794, Accuracy: 74.35%\n",
            "Epoch [98/150], Loss: 0.5487, Accuracy: 74.39%\n",
            "Epoch [99/150], Loss: 0.4867, Accuracy: 74.43%\n",
            "Epoch [100/150], Loss: 0.4987, Accuracy: 74.45%\n",
            "Epoch [101/150], Loss: 0.4440, Accuracy: 74.39%\n",
            "Epoch [102/150], Loss: 0.5954, Accuracy: 74.41%\n",
            "Epoch [103/150], Loss: 0.5094, Accuracy: 74.47%\n",
            "Epoch [104/150], Loss: 0.5179, Accuracy: 74.28%\n",
            "Epoch [105/150], Loss: 0.5176, Accuracy: 74.42%\n",
            "Epoch [106/150], Loss: 0.5957, Accuracy: 74.41%\n",
            "Epoch [107/150], Loss: 0.5127, Accuracy: 74.32%\n",
            "Epoch [108/150], Loss: 0.5971, Accuracy: 74.43%\n",
            "Epoch [109/150], Loss: 0.5095, Accuracy: 74.53%\n",
            "Epoch [110/150], Loss: 0.5665, Accuracy: 74.37%\n",
            "Epoch [111/150], Loss: 0.5857, Accuracy: 74.41%\n",
            "Epoch [112/150], Loss: 0.5809, Accuracy: 74.39%\n",
            "Epoch [113/150], Loss: 0.5639, Accuracy: 74.37%\n",
            "Epoch [114/150], Loss: 0.5491, Accuracy: 74.44%\n",
            "Epoch [115/150], Loss: 0.5001, Accuracy: 74.44%\n",
            "Epoch [116/150], Loss: 0.5153, Accuracy: 74.39%\n",
            "Epoch [117/150], Loss: 0.5280, Accuracy: 74.48%\n",
            "Epoch [118/150], Loss: 0.6081, Accuracy: 74.42%\n",
            "Epoch [119/150], Loss: 0.6048, Accuracy: 74.42%\n",
            "Epoch [120/150], Loss: 0.5479, Accuracy: 74.47%\n",
            "Epoch [121/150], Loss: 0.5617, Accuracy: 74.40%\n",
            "Epoch [122/150], Loss: 0.5348, Accuracy: 74.42%\n",
            "Epoch [123/150], Loss: 0.5293, Accuracy: 74.54%\n",
            "Epoch [124/150], Loss: 0.4769, Accuracy: 74.49%\n",
            "Epoch [125/150], Loss: 0.4778, Accuracy: 74.47%\n",
            "Epoch [126/150], Loss: 0.5161, Accuracy: 74.42%\n",
            "Epoch [127/150], Loss: 0.5111, Accuracy: 74.49%\n",
            "Epoch [128/150], Loss: 0.5103, Accuracy: 74.48%\n",
            "Epoch [129/150], Loss: 0.5113, Accuracy: 74.43%\n",
            "Epoch [130/150], Loss: 0.5903, Accuracy: 74.48%\n",
            "Epoch [131/150], Loss: 0.5521, Accuracy: 74.48%\n",
            "Epoch [132/150], Loss: 0.4378, Accuracy: 74.35%\n",
            "Epoch [133/150], Loss: 0.4165, Accuracy: 74.35%\n",
            "Epoch [134/150], Loss: 0.5321, Accuracy: 74.46%\n",
            "Epoch [135/150], Loss: 0.4788, Accuracy: 74.48%\n",
            "Epoch [136/150], Loss: 0.4570, Accuracy: 74.42%\n",
            "Epoch [137/150], Loss: 0.4619, Accuracy: 74.47%\n",
            "Epoch [138/150], Loss: 0.4915, Accuracy: 74.40%\n",
            "Epoch [139/150], Loss: 0.5543, Accuracy: 74.47%\n",
            "Epoch [140/150], Loss: 0.4965, Accuracy: 74.47%\n",
            "Epoch [141/150], Loss: 0.5748, Accuracy: 74.54%\n",
            "Epoch [142/150], Loss: 0.5239, Accuracy: 74.53%\n",
            "Epoch [143/150], Loss: 0.5711, Accuracy: 74.40%\n",
            "Epoch [144/150], Loss: 0.5447, Accuracy: 74.44%\n",
            "Epoch [145/150], Loss: 0.4895, Accuracy: 74.50%\n",
            "Epoch [146/150], Loss: 0.5005, Accuracy: 74.46%\n",
            "Epoch [147/150], Loss: 0.5911, Accuracy: 74.48%\n",
            "Epoch [148/150], Loss: 0.4905, Accuracy: 74.56%\n",
            "Epoch [149/150], Loss: 0.4773, Accuracy: 74.49%\n",
            "Epoch [150/150], Loss: 0.5557, Accuracy: 74.47%\n"
          ]
        }
      ],
      "source": [
        "# Training loop\n",
        "epochs = 150\n",
        "for epoch in range(epochs):\n",
        "    total = 0\n",
        "    correct = 0\n",
        "\n",
        "    for batch in train_loader:\n",
        "        X_batch, y_batch = batch[0].to(device), batch[1].to(device)\n",
        "        outputs = model(X_batch)\n",
        "        predicted = outputs.squeeze().round()\n",
        "        loss = criterion(outputs.squeeze(), y_batch)\n",
        "\n",
        "        optimizer.zero_grad()\n",
        "        loss.backward()\n",
        "        optimizer.step()\n",
        "\n",
        "        total += y_batch.size(0)\n",
        "        correct += (predicted == y_batch).sum().item()\n",
        "\n",
        "    accuracy = 100 * correct / total\n",
        "    print(f'Epoch [{epoch+1}/{epochs}], Loss: {loss.item():.4f}, Accuracy: {accuracy:.2f}%')\n"
      ]
    },
    {
      "cell_type": "markdown",
      "metadata": {},
      "source": [
        "Saving The Model"
      ]
    },
    {
      "cell_type": "code",
      "execution_count": 28,
      "metadata": {
        "colab": {
          "base_uri": "https://localhost:8080/"
        },
        "id": "1EY1ZmH7-aS9",
        "outputId": "4d98c34c-47a6-4509-8c17-bdca1f07c5f8"
      },
      "outputs": [
        {
          "name": "stdout",
          "output_type": "stream",
          "text": [
            "Model parameters saved to: /content/drive/MyDrive/BITS-Sarvesh/Fourth year/ML/models/model1.pth\n"
          ]
        }
      ],
      "source": [
        "model_save_path = '/content/drive/MyDrive/BITS-Sarvesh/Fourth year/ML/models/model1.pth'\n",
        "# Saving the model parameters\n",
        "torch.save(model.state_dict(), model_save_path)\n",
        "print(f\"Model parameters saved to: {model_save_path}\")"
      ]
    },
    {
      "cell_type": "markdown",
      "metadata": {},
      "source": [
        "Loading the Test data"
      ]
    },
    {
      "cell_type": "code",
      "execution_count": null,
      "metadata": {},
      "outputs": [],
      "source": [
        "# Load the test dataset\n",
        "test_data_path = '/content/drive/MyDrive/BITS-Sarvesh/Fourth year/ML/Data//test.csv'  # Replace with your actual file path\n",
        "test_data = pd.read_csv(test_data_path)"
      ]
    },
    {
      "cell_type": "markdown",
      "metadata": {},
      "source": [
        "Preprocessing the Test Data and converting to pytorch Tensor"
      ]
    },
    {
      "cell_type": "code",
      "execution_count": null,
      "metadata": {},
      "outputs": [],
      "source": [
        "# Remove the ID column and save it for later\n",
        "test_ids = test_data['ID']\n",
        "test_features = test_data.drop('ID', axis=1)\n",
        "# Scaling the features using the previously defined scaler\n",
        "scaled_test_features = scaler.fit_transform(test_features)\n",
        "# Converting to PyTorch tensor\n",
        "test_tensor = torch.tensor(scaled_test_features, dtype=torch.float32).to(device)"
      ]
    },
    {
      "cell_type": "markdown",
      "metadata": {},
      "source": [
        "Loading the model which is saved from training"
      ]
    },
    {
      "cell_type": "code",
      "execution_count": null,
      "metadata": {},
      "outputs": [],
      "source": [
        "model_save_path = '/content/drive/MyDrive/BITS-Sarvesh/Fourth year/ML/models/model1.pth'\n",
        "model.load_state_dict(torch.load(model_save_path))"
      ]
    },
    {
      "cell_type": "markdown",
      "metadata": {},
      "source": [
        "Prediction on Test data using the saved model"
      ]
    },
    {
      "cell_type": "code",
      "execution_count": 29,
      "metadata": {
        "colab": {
          "base_uri": "https://localhost:8080/"
        },
        "id": "N1Mm6HLb-qPu",
        "outputId": "8ac535fa-2184-4635-cb97-eab77ff84efb"
      },
      "outputs": [
        {
          "name": "stdout",
          "output_type": "stream",
          "text": [
            "Predictions saved to: /content/drive/MyDrive/BITS-Sarvesh/Fourth year/ML/submission1.csv\n"
          ]
        }
      ],
      "source": [
        "# Predicting with the neural network\n",
        "with torch.no_grad():\n",
        "    model.eval() # Set the model to evaluation mode\n",
        "    test_predictions = model(test_tensor).squeeze().round()\n",
        "\n",
        "# Converting predictions to a NumPy array\n",
        "test_predictions_np = test_predictions.cpu().numpy()\n",
        "\n",
        "# Preparing the DataFrame for the output CSV\n",
        "output_df = pd.DataFrame({'ID': test_ids, 'Target': test_predictions_np})\n",
        "\n",
        "# Saving the predictions to a CSV file\n",
        "output_file_path = '/content/drive/MyDrive/BITS-Sarvesh/Fourth year/ML/predicted_results.csv' \n",
        "output_df.to_csv(output_file_path, index=False)\n",
        "\n",
        "print(\"Predictions saved to:\", output_file_path)"
      ]
    },
    {
      "cell_type": "markdown",
      "metadata": {},
      "source": [
        "Creating the submission Zip file"
      ]
    },
    {
      "cell_type": "code",
      "execution_count": null,
      "metadata": {
        "id": "LWZOX_el2fKM"
      },
      "outputs": [],
      "source": [
        "with zipfile.ZipFile('submission.zip', 'w', zipfile.ZIP_DEFLATED) as archive:\n",
        "    archive.write('output/submission.csv')\n",
        "    archive.write('classifier.ipynb')\n",
        "\n",
        "print('Your submission is now ready!')\n",
        "print('Upload this file to both kaggle and quanta to get your score')"
      ]
    },
    {
      "cell_type": "markdown",
      "metadata": {},
      "source": [
        "Other Methods that I have tried out"
      ]
    },
    {
      "cell_type": "code",
      "execution_count": null,
      "metadata": {},
      "outputs": [],
      "source": [
        "# from sklearn.ensemble import AdaBoostClassifier, GradientBoostingClassifier\n",
        "\n",
        "# # AdaBoost with Random Forest\n",
        "# ada_boost_model = AdaBoostClassifier(\n",
        "#     base_estimator=RandomForestClassifier(n_estimators=150, random_state=42),\n",
        "#     n_estimators=50,\n",
        "#     learning_rate=1.0,\n",
        "#     random_state=42\n",
        "# )\n",
        "\n",
        "# # Gradient Boosting\n",
        "# grad_boost_model = GradientBoostingClassifier(\n",
        "#     n_estimators=150,\n",
        "#     learning_rate=0.1,\n",
        "#     max_depth=3,\n",
        "#     random_state=42\n",
        "# )\n",
        "\n",
        "# # Train and evaluate AdaBoost model\n",
        "# ada_boost_model.fit(X_train, y_train)\n",
        "# y_pred_ada = ada_boost_model.predict(X_test)\n",
        "# accuracy_ada = accuracy_score(y_test, y_pred_ada)\n",
        "\n",
        "# # Train and evaluate Gradient Boosting model\n",
        "# grad_boost_model.fit(X_train, y_train)\n",
        "# y_pred_grad = grad_boost_model.predict(X_test)\n",
        "# accuracy_grad = accuracy_score(y_test, y_pred_grad)\n",
        "\n",
        "# accuracy_ada, accuracy_grad"
      ]
    }
  ],
  "metadata": {
    "accelerator": "GPU",
    "colab": {
      "gpuType": "T4",
      "provenance": []
    },
    "kernelspec": {
      "display_name": "Python 3",
      "name": "python3"
    },
    "language_info": {
      "codemirror_mode": {
        "name": "ipython",
        "version": 3
      },
      "file_extension": ".py",
      "mimetype": "text/x-python",
      "name": "python",
      "nbconvert_exporter": "python",
      "pygments_lexer": "ipython3",
      "version": "3.9.13"
    }
  },
  "nbformat": 4,
  "nbformat_minor": 0
}
